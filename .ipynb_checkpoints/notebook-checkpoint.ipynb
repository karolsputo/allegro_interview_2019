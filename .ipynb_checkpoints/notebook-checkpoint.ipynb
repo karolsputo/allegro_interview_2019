{
 "cells": [
  {
   "cell_type": "markdown",
   "metadata": {},
   "source": [
    "Cześć! Oto moje rozwiązanie zadania testowego.\n",
    "\n",
    "Z przyzwyczajenia cała analiza i kod są po angielsku."
   ]
  },
  {
   "cell_type": "code",
   "execution_count": 428,
   "metadata": {},
   "outputs": [],
   "source": [
    "# Import necessary packages\n",
    "import matplotlib as plt\n",
    "import pandas as pd\n",
    "from sklearn.model_selection import train_test_split\n",
    "from xgboost import plot_importance\n",
    "from xgboost import XGBClassifier"
   ]
  },
  {
   "cell_type": "code",
   "execution_count": 429,
   "metadata": {},
   "outputs": [],
   "source": [
    "# Load the data\n",
    "df = pd.read_csv('zadanie_rekrutacyjne_data.csv', sep=',')"
   ]
  },
  {
   "cell_type": "code",
   "execution_count": 430,
   "metadata": {},
   "outputs": [
    {
     "data": {
      "text/plain": [
       "(66210, 139)"
      ]
     },
     "execution_count": 430,
     "metadata": {},
     "output_type": "execute_result"
    }
   ],
   "source": [
    "# Shape\n",
    "df.shape"
   ]
  },
  {
   "cell_type": "code",
   "execution_count": 431,
   "metadata": {},
   "outputs": [
    {
     "data": {
      "text/html": [
       "<div>\n",
       "<style scoped>\n",
       "    .dataframe tbody tr th:only-of-type {\n",
       "        vertical-align: middle;\n",
       "    }\n",
       "\n",
       "    .dataframe tbody tr th {\n",
       "        vertical-align: top;\n",
       "    }\n",
       "\n",
       "    .dataframe thead th {\n",
       "        text-align: right;\n",
       "    }\n",
       "</style>\n",
       "<table border=\"1\" class=\"dataframe\">\n",
       "  <thead>\n",
       "    <tr style=\"text-align: right;\">\n",
       "      <th></th>\n",
       "      <th>us_id</th>\n",
       "      <th>target</th>\n",
       "      <th>sex</th>\n",
       "      <th>age</th>\n",
       "      <th>var1</th>\n",
       "      <th>var2</th>\n",
       "      <th>var3</th>\n",
       "      <th>var4</th>\n",
       "      <th>var5</th>\n",
       "      <th>var6</th>\n",
       "      <th>...</th>\n",
       "      <th>var126</th>\n",
       "      <th>var127</th>\n",
       "      <th>var128</th>\n",
       "      <th>var129</th>\n",
       "      <th>var130</th>\n",
       "      <th>var131</th>\n",
       "      <th>var132</th>\n",
       "      <th>var133</th>\n",
       "      <th>var134</th>\n",
       "      <th>var135</th>\n",
       "    </tr>\n",
       "  </thead>\n",
       "  <tbody>\n",
       "    <tr>\n",
       "      <th>27628</th>\n",
       "      <td>2068</td>\n",
       "      <td>0</td>\n",
       "      <td>M</td>\n",
       "      <td>18.0</td>\n",
       "      <td>0</td>\n",
       "      <td>0</td>\n",
       "      <td>92.0</td>\n",
       "      <td>0</td>\n",
       "      <td>0</td>\n",
       "      <td>0</td>\n",
       "      <td>...</td>\n",
       "      <td>NaN</td>\n",
       "      <td>0.228638</td>\n",
       "      <td>0.495954</td>\n",
       "      <td>0.457037</td>\n",
       "      <td>0.329760</td>\n",
       "      <td>NaN</td>\n",
       "      <td>0.097994</td>\n",
       "      <td>0.493441</td>\n",
       "      <td>0.441164</td>\n",
       "      <td>0.342426</td>\n",
       "    </tr>\n",
       "    <tr>\n",
       "      <th>1445</th>\n",
       "      <td>9225</td>\n",
       "      <td>0</td>\n",
       "      <td>F</td>\n",
       "      <td>NaN</td>\n",
       "      <td>0</td>\n",
       "      <td>0</td>\n",
       "      <td>43.0</td>\n",
       "      <td>0</td>\n",
       "      <td>0</td>\n",
       "      <td>0</td>\n",
       "      <td>...</td>\n",
       "      <td>0.088670</td>\n",
       "      <td>NaN</td>\n",
       "      <td>0.535049</td>\n",
       "      <td>0.221207</td>\n",
       "      <td>0.633609</td>\n",
       "      <td>0.178201</td>\n",
       "      <td>NaN</td>\n",
       "      <td>0.238484</td>\n",
       "      <td>0.459701</td>\n",
       "      <td>0.342339</td>\n",
       "    </tr>\n",
       "    <tr>\n",
       "      <th>26718</th>\n",
       "      <td>13942</td>\n",
       "      <td>0</td>\n",
       "      <td>M</td>\n",
       "      <td>50.0</td>\n",
       "      <td>0</td>\n",
       "      <td>0</td>\n",
       "      <td>47.0</td>\n",
       "      <td>0</td>\n",
       "      <td>0</td>\n",
       "      <td>0</td>\n",
       "      <td>...</td>\n",
       "      <td>0.165015</td>\n",
       "      <td>0.167934</td>\n",
       "      <td>0.524040</td>\n",
       "      <td>NaN</td>\n",
       "      <td>0.234346</td>\n",
       "      <td>0.418879</td>\n",
       "      <td>0.085861</td>\n",
       "      <td>0.183566</td>\n",
       "      <td>NaN</td>\n",
       "      <td>0.199549</td>\n",
       "    </tr>\n",
       "    <tr>\n",
       "      <th>35849</th>\n",
       "      <td>19477</td>\n",
       "      <td>0</td>\n",
       "      <td>F</td>\n",
       "      <td>53.0</td>\n",
       "      <td>0</td>\n",
       "      <td>0</td>\n",
       "      <td>71.0</td>\n",
       "      <td>0</td>\n",
       "      <td>0</td>\n",
       "      <td>0</td>\n",
       "      <td>...</td>\n",
       "      <td>0.083496</td>\n",
       "      <td>0.506822</td>\n",
       "      <td>0.569506</td>\n",
       "      <td>0.111134</td>\n",
       "      <td>0.779383</td>\n",
       "      <td>0.111765</td>\n",
       "      <td>0.622379</td>\n",
       "      <td>0.234435</td>\n",
       "      <td>NaN</td>\n",
       "      <td>0.476264</td>\n",
       "    </tr>\n",
       "    <tr>\n",
       "      <th>45934</th>\n",
       "      <td>23339</td>\n",
       "      <td>0</td>\n",
       "      <td>M</td>\n",
       "      <td>59.0</td>\n",
       "      <td>0</td>\n",
       "      <td>0</td>\n",
       "      <td>NaN</td>\n",
       "      <td>0</td>\n",
       "      <td>0</td>\n",
       "      <td>1</td>\n",
       "      <td>...</td>\n",
       "      <td>0.137069</td>\n",
       "      <td>0.178843</td>\n",
       "      <td>0.352464</td>\n",
       "      <td>0.548988</td>\n",
       "      <td>0.294562</td>\n",
       "      <td>0.540729</td>\n",
       "      <td>0.082152</td>\n",
       "      <td>0.456522</td>\n",
       "      <td>0.335462</td>\n",
       "      <td>0.194576</td>\n",
       "    </tr>\n",
       "    <tr>\n",
       "      <th>18192</th>\n",
       "      <td>36494</td>\n",
       "      <td>0</td>\n",
       "      <td>M</td>\n",
       "      <td>46.0</td>\n",
       "      <td>0</td>\n",
       "      <td>0</td>\n",
       "      <td>28.0</td>\n",
       "      <td>0</td>\n",
       "      <td>0</td>\n",
       "      <td>0</td>\n",
       "      <td>...</td>\n",
       "      <td>NaN</td>\n",
       "      <td>NaN</td>\n",
       "      <td>NaN</td>\n",
       "      <td>NaN</td>\n",
       "      <td>NaN</td>\n",
       "      <td>NaN</td>\n",
       "      <td>NaN</td>\n",
       "      <td>NaN</td>\n",
       "      <td>NaN</td>\n",
       "      <td>NaN</td>\n",
       "    </tr>\n",
       "    <tr>\n",
       "      <th>53833</th>\n",
       "      <td>52225</td>\n",
       "      <td>0</td>\n",
       "      <td>M</td>\n",
       "      <td>41.0</td>\n",
       "      <td>0</td>\n",
       "      <td>0</td>\n",
       "      <td>85.0</td>\n",
       "      <td>0</td>\n",
       "      <td>0</td>\n",
       "      <td>0</td>\n",
       "      <td>...</td>\n",
       "      <td>NaN</td>\n",
       "      <td>0.323066</td>\n",
       "      <td>NaN</td>\n",
       "      <td>0.380884</td>\n",
       "      <td>NaN</td>\n",
       "      <td>NaN</td>\n",
       "      <td>NaN</td>\n",
       "      <td>NaN</td>\n",
       "      <td>NaN</td>\n",
       "      <td>NaN</td>\n",
       "    </tr>\n",
       "    <tr>\n",
       "      <th>49019</th>\n",
       "      <td>52257</td>\n",
       "      <td>0</td>\n",
       "      <td>F</td>\n",
       "      <td>36.0</td>\n",
       "      <td>0</td>\n",
       "      <td>0</td>\n",
       "      <td>55.0</td>\n",
       "      <td>0</td>\n",
       "      <td>0</td>\n",
       "      <td>0</td>\n",
       "      <td>...</td>\n",
       "      <td>NaN</td>\n",
       "      <td>0.418815</td>\n",
       "      <td>NaN</td>\n",
       "      <td>NaN</td>\n",
       "      <td>NaN</td>\n",
       "      <td>0.217617</td>\n",
       "      <td>NaN</td>\n",
       "      <td>NaN</td>\n",
       "      <td>NaN</td>\n",
       "      <td>0.310745</td>\n",
       "    </tr>\n",
       "    <tr>\n",
       "      <th>42187</th>\n",
       "      <td>54136</td>\n",
       "      <td>0</td>\n",
       "      <td>M</td>\n",
       "      <td>NaN</td>\n",
       "      <td>0</td>\n",
       "      <td>0</td>\n",
       "      <td>20.0</td>\n",
       "      <td>0</td>\n",
       "      <td>0</td>\n",
       "      <td>0</td>\n",
       "      <td>...</td>\n",
       "      <td>NaN</td>\n",
       "      <td>0.234794</td>\n",
       "      <td>0.470106</td>\n",
       "      <td>0.519560</td>\n",
       "      <td>0.196368</td>\n",
       "      <td>0.314358</td>\n",
       "      <td>0.076757</td>\n",
       "      <td>0.223875</td>\n",
       "      <td>0.232297</td>\n",
       "      <td>0.147714</td>\n",
       "    </tr>\n",
       "    <tr>\n",
       "      <th>47887</th>\n",
       "      <td>55961</td>\n",
       "      <td>0</td>\n",
       "      <td>M</td>\n",
       "      <td>23.0</td>\n",
       "      <td>0</td>\n",
       "      <td>0</td>\n",
       "      <td>4.0</td>\n",
       "      <td>0</td>\n",
       "      <td>0</td>\n",
       "      <td>0</td>\n",
       "      <td>...</td>\n",
       "      <td>0.347740</td>\n",
       "      <td>0.181421</td>\n",
       "      <td>NaN</td>\n",
       "      <td>NaN</td>\n",
       "      <td>0.289263</td>\n",
       "      <td>NaN</td>\n",
       "      <td>NaN</td>\n",
       "      <td>NaN</td>\n",
       "      <td>0.369570</td>\n",
       "      <td>0.217629</td>\n",
       "    </tr>\n",
       "    <tr>\n",
       "      <th>6136</th>\n",
       "      <td>65699</td>\n",
       "      <td>0</td>\n",
       "      <td>M</td>\n",
       "      <td>NaN</td>\n",
       "      <td>0</td>\n",
       "      <td>1</td>\n",
       "      <td>85.0</td>\n",
       "      <td>0</td>\n",
       "      <td>0</td>\n",
       "      <td>0</td>\n",
       "      <td>...</td>\n",
       "      <td>0.145038</td>\n",
       "      <td>0.148772</td>\n",
       "      <td>0.372017</td>\n",
       "      <td>0.685779</td>\n",
       "      <td>0.265125</td>\n",
       "      <td>0.759060</td>\n",
       "      <td>NaN</td>\n",
       "      <td>0.680284</td>\n",
       "      <td>0.486296</td>\n",
       "      <td>0.175517</td>\n",
       "    </tr>\n",
       "    <tr>\n",
       "      <th>38454</th>\n",
       "      <td>72816</td>\n",
       "      <td>0</td>\n",
       "      <td>M</td>\n",
       "      <td>37.0</td>\n",
       "      <td>0</td>\n",
       "      <td>0</td>\n",
       "      <td>63.0</td>\n",
       "      <td>0</td>\n",
       "      <td>0</td>\n",
       "      <td>0</td>\n",
       "      <td>...</td>\n",
       "      <td>0.165015</td>\n",
       "      <td>0.276479</td>\n",
       "      <td>0.542675</td>\n",
       "      <td>0.433871</td>\n",
       "      <td>0.357173</td>\n",
       "      <td>0.258784</td>\n",
       "      <td>0.103061</td>\n",
       "      <td>0.186226</td>\n",
       "      <td>NaN</td>\n",
       "      <td>0.196393</td>\n",
       "    </tr>\n",
       "    <tr>\n",
       "      <th>16227</th>\n",
       "      <td>72866</td>\n",
       "      <td>0</td>\n",
       "      <td>M</td>\n",
       "      <td>37.0</td>\n",
       "      <td>0</td>\n",
       "      <td>0</td>\n",
       "      <td>52.0</td>\n",
       "      <td>0</td>\n",
       "      <td>0</td>\n",
       "      <td>0</td>\n",
       "      <td>...</td>\n",
       "      <td>0.144723</td>\n",
       "      <td>0.197982</td>\n",
       "      <td>NaN</td>\n",
       "      <td>NaN</td>\n",
       "      <td>0.328140</td>\n",
       "      <td>0.337001</td>\n",
       "      <td>NaN</td>\n",
       "      <td>0.299436</td>\n",
       "      <td>NaN</td>\n",
       "      <td>NaN</td>\n",
       "    </tr>\n",
       "    <tr>\n",
       "      <th>64748</th>\n",
       "      <td>79783</td>\n",
       "      <td>0</td>\n",
       "      <td>F</td>\n",
       "      <td>NaN</td>\n",
       "      <td>0</td>\n",
       "      <td>0</td>\n",
       "      <td>35.0</td>\n",
       "      <td>0</td>\n",
       "      <td>0</td>\n",
       "      <td>0</td>\n",
       "      <td>...</td>\n",
       "      <td>0.147890</td>\n",
       "      <td>0.418815</td>\n",
       "      <td>NaN</td>\n",
       "      <td>0.136466</td>\n",
       "      <td>0.646473</td>\n",
       "      <td>0.118489</td>\n",
       "      <td>0.488256</td>\n",
       "      <td>0.280618</td>\n",
       "      <td>NaN</td>\n",
       "      <td>NaN</td>\n",
       "    </tr>\n",
       "    <tr>\n",
       "      <th>22814</th>\n",
       "      <td>82690</td>\n",
       "      <td>0</td>\n",
       "      <td>M</td>\n",
       "      <td>59.0</td>\n",
       "      <td>0</td>\n",
       "      <td>0</td>\n",
       "      <td>48.0</td>\n",
       "      <td>0</td>\n",
       "      <td>0</td>\n",
       "      <td>0</td>\n",
       "      <td>...</td>\n",
       "      <td>NaN</td>\n",
       "      <td>0.196490</td>\n",
       "      <td>0.393773</td>\n",
       "      <td>0.396133</td>\n",
       "      <td>NaN</td>\n",
       "      <td>0.421077</td>\n",
       "      <td>NaN</td>\n",
       "      <td>NaN</td>\n",
       "      <td>NaN</td>\n",
       "      <td>NaN</td>\n",
       "    </tr>\n",
       "  </tbody>\n",
       "</table>\n",
       "<p>15 rows × 139 columns</p>\n",
       "</div>"
      ],
      "text/plain": [
       "       us_id  target sex   age  var1  var2  var3  var4  var5  var6  ...  \\\n",
       "27628   2068       0   M  18.0     0     0  92.0     0     0     0  ...   \n",
       "1445    9225       0   F   NaN     0     0  43.0     0     0     0  ...   \n",
       "26718  13942       0   M  50.0     0     0  47.0     0     0     0  ...   \n",
       "35849  19477       0   F  53.0     0     0  71.0     0     0     0  ...   \n",
       "45934  23339       0   M  59.0     0     0   NaN     0     0     1  ...   \n",
       "18192  36494       0   M  46.0     0     0  28.0     0     0     0  ...   \n",
       "53833  52225       0   M  41.0     0     0  85.0     0     0     0  ...   \n",
       "49019  52257       0   F  36.0     0     0  55.0     0     0     0  ...   \n",
       "42187  54136       0   M   NaN     0     0  20.0     0     0     0  ...   \n",
       "47887  55961       0   M  23.0     0     0   4.0     0     0     0  ...   \n",
       "6136   65699       0   M   NaN     0     1  85.0     0     0     0  ...   \n",
       "38454  72816       0   M  37.0     0     0  63.0     0     0     0  ...   \n",
       "16227  72866       0   M  37.0     0     0  52.0     0     0     0  ...   \n",
       "64748  79783       0   F   NaN     0     0  35.0     0     0     0  ...   \n",
       "22814  82690       0   M  59.0     0     0  48.0     0     0     0  ...   \n",
       "\n",
       "         var126    var127    var128    var129    var130    var131    var132  \\\n",
       "27628       NaN  0.228638  0.495954  0.457037  0.329760       NaN  0.097994   \n",
       "1445   0.088670       NaN  0.535049  0.221207  0.633609  0.178201       NaN   \n",
       "26718  0.165015  0.167934  0.524040       NaN  0.234346  0.418879  0.085861   \n",
       "35849  0.083496  0.506822  0.569506  0.111134  0.779383  0.111765  0.622379   \n",
       "45934  0.137069  0.178843  0.352464  0.548988  0.294562  0.540729  0.082152   \n",
       "18192       NaN       NaN       NaN       NaN       NaN       NaN       NaN   \n",
       "53833       NaN  0.323066       NaN  0.380884       NaN       NaN       NaN   \n",
       "49019       NaN  0.418815       NaN       NaN       NaN  0.217617       NaN   \n",
       "42187       NaN  0.234794  0.470106  0.519560  0.196368  0.314358  0.076757   \n",
       "47887  0.347740  0.181421       NaN       NaN  0.289263       NaN       NaN   \n",
       "6136   0.145038  0.148772  0.372017  0.685779  0.265125  0.759060       NaN   \n",
       "38454  0.165015  0.276479  0.542675  0.433871  0.357173  0.258784  0.103061   \n",
       "16227  0.144723  0.197982       NaN       NaN  0.328140  0.337001       NaN   \n",
       "64748  0.147890  0.418815       NaN  0.136466  0.646473  0.118489  0.488256   \n",
       "22814       NaN  0.196490  0.393773  0.396133       NaN  0.421077       NaN   \n",
       "\n",
       "         var133    var134    var135  \n",
       "27628  0.493441  0.441164  0.342426  \n",
       "1445   0.238484  0.459701  0.342339  \n",
       "26718  0.183566       NaN  0.199549  \n",
       "35849  0.234435       NaN  0.476264  \n",
       "45934  0.456522  0.335462  0.194576  \n",
       "18192       NaN       NaN       NaN  \n",
       "53833       NaN       NaN       NaN  \n",
       "49019       NaN       NaN  0.310745  \n",
       "42187  0.223875  0.232297  0.147714  \n",
       "47887       NaN  0.369570  0.217629  \n",
       "6136   0.680284  0.486296  0.175517  \n",
       "38454  0.186226       NaN  0.196393  \n",
       "16227  0.299436       NaN       NaN  \n",
       "64748  0.280618       NaN       NaN  \n",
       "22814       NaN       NaN       NaN  \n",
       "\n",
       "[15 rows x 139 columns]"
      ]
     },
     "execution_count": 431,
     "metadata": {},
     "output_type": "execute_result"
    }
   ],
   "source": [
    "# Sample data\n",
    "df.sample(15).sort_values('us_id')"
   ]
  },
  {
   "cell_type": "code",
   "execution_count": 432,
   "metadata": {},
   "outputs": [
    {
     "data": {
      "text/plain": [
       "us_id       int64\n",
       "target      int64\n",
       "sex        object\n",
       "age       float64\n",
       "var1        int64\n",
       "var2        int64\n",
       "var3      float64\n",
       "var4        int64\n",
       "var5        int64\n",
       "var6        int64\n",
       "var7        int64\n",
       "var8        int64\n",
       "var9        int64\n",
       "var10       int64\n",
       "var11       int64\n",
       "var12       int64\n",
       "var13       int64\n",
       "var14       int64\n",
       "var15       int64\n",
       "var16       int64\n",
       "var17       int64\n",
       "var18       int64\n",
       "var19       int64\n",
       "var20       int64\n",
       "var21       int64\n",
       "var22       int64\n",
       "var23       int64\n",
       "var24       int64\n",
       "var25       int64\n",
       "var26       int64\n",
       "           ...   \n",
       "var106      int64\n",
       "var107      int64\n",
       "var108      int64\n",
       "var109      int64\n",
       "var110      int64\n",
       "var111      int64\n",
       "var112      int64\n",
       "var113      int64\n",
       "var114      int64\n",
       "var115      int64\n",
       "var116      int64\n",
       "var117      int64\n",
       "var118      int64\n",
       "var119      int64\n",
       "var120      int64\n",
       "var121      int64\n",
       "var122    float64\n",
       "var123    float64\n",
       "var124    float64\n",
       "var125    float64\n",
       "var126    float64\n",
       "var127    float64\n",
       "var128    float64\n",
       "var129    float64\n",
       "var130    float64\n",
       "var131    float64\n",
       "var132    float64\n",
       "var133    float64\n",
       "var134    float64\n",
       "var135    float64\n",
       "Length: 139, dtype: object"
      ]
     },
     "execution_count": 432,
     "metadata": {},
     "output_type": "execute_result"
    }
   ],
   "source": [
    "# Handle data types\n",
    "df.dtypes"
   ]
  },
  {
   "cell_type": "markdown",
   "metadata": {},
   "source": [
    "We see some object type columns - categorical variables. These need to be encoded - models can't deal with categorical variables without encoding."
   ]
  },
  {
   "cell_type": "code",
   "execution_count": 433,
   "metadata": {},
   "outputs": [
    {
     "data": {
      "text/plain": [
       "int64      111\n",
       "float64     27\n",
       "object       1\n",
       "dtype: int64"
      ]
     },
     "execution_count": 433,
     "metadata": {},
     "output_type": "execute_result"
    }
   ],
   "source": [
    "# Check if there are more categorical variables\n",
    "df.dtypes.groupby(df.dtypes).count()"
   ]
  },
  {
   "cell_type": "markdown",
   "metadata": {},
   "source": [
    "Only one! Great!"
   ]
  },
  {
   "cell_type": "code",
   "execution_count": 434,
   "metadata": {},
   "outputs": [
    {
     "name": "stdout",
     "output_type": "stream",
     "text": [
      "M      34857\n",
      "F      29782\n",
      "NaN     1571\n",
      "Name: sex, dtype: int64\n"
     ]
    }
   ],
   "source": [
    "# Check values of sex variable before encoding\n",
    "print(df['sex'].value_counts(dropna=False))"
   ]
  },
  {
   "cell_type": "code",
   "execution_count": 435,
   "metadata": {},
   "outputs": [
    {
     "name": "stdout",
     "output_type": "stream",
     "text": [
      "   sex_encoded sex\n",
      "0            0   F\n",
      "1            0   F\n",
      "2            0   F\n",
      "3            1   M\n",
      "4            1   M\n",
      "sex_encoded dtype is: int64\n"
     ]
    }
   ],
   "source": [
    "# Encode sex into new variable\n",
    "df['sex_encoded'] = pd.factorize(df.sex)[0]\n",
    "# Confirm encoding and dtype\n",
    "print(df[['sex_encoded', 'sex']].head(5))\n",
    "print(\"sex_encoded dtype is: {}\".format(df['sex_encoded'].dtypes))\n"
   ]
  },
  {
   "cell_type": "code",
   "execution_count": 436,
   "metadata": {},
   "outputs": [],
   "source": [
    "# Drop sex variable\n",
    "df = df.drop('sex', axis=1)"
   ]
  },
  {
   "cell_type": "code",
   "execution_count": 437,
   "metadata": {},
   "outputs": [
    {
     "name": "stdout",
     "output_type": "stream",
     "text": [
      "Dtypes after ecoding \n",
      "int64      112\n",
      "float64     27\n",
      "dtype: int64\n",
      "\n",
      " 1    34857\n",
      " 0    29782\n",
      "-1     1571\n",
      "Name: sex_encoded, dtype: int64\n"
     ]
    }
   ],
   "source": [
    "# And just to be sure\n",
    "print(\"Dtypes after ecoding \\n{}\\n\".format(df.dtypes.groupby(df.dtypes).count()))\n",
    "print(df['sex_encoded'].value_counts(dropna=False))"
   ]
  },
  {
   "cell_type": "markdown",
   "metadata": {},
   "source": [
    "Great. No more object dtype columns.\n",
    "Cleaning the data. Let's delete duplicate rows and find out have many Nans we have."
   ]
  },
  {
   "cell_type": "code",
   "execution_count": 438,
   "metadata": {},
   "outputs": [
    {
     "data": {
      "text/plain": [
       "(66210, 139)"
      ]
     },
     "execution_count": 438,
     "metadata": {},
     "output_type": "execute_result"
    }
   ],
   "source": [
    "df.drop_duplicates()\n",
    "df.shape"
   ]
  },
  {
   "cell_type": "markdown",
   "metadata": {},
   "source": [
    "No duplicate rows."
   ]
  },
  {
   "cell_type": "code",
   "execution_count": 439,
   "metadata": {},
   "outputs": [
    {
     "data": {
      "text/plain": [
       "var124    38281\n",
       "var122    34614\n",
       "var69     33629\n",
       "var125    28678\n",
       "var74     28598\n",
       "var134    26982\n",
       "var71     25655\n",
       "var126    25492\n",
       "var132    24943\n",
       "var133    24899\n",
       "var135    23695\n",
       "var70     22915\n",
       "var72     20076\n",
       "var73     18869\n",
       "var128    16869\n",
       "var127    15408\n",
       "age       15324\n",
       "var131    15233\n",
       "var68     14461\n",
       "var93     14165\n",
       "var129    14089\n",
       "var130    13002\n",
       "var88     12933\n",
       "var91     12735\n",
       "var123    11358\n",
       "var3       3135\n",
       "var37         0\n",
       "var38         0\n",
       "var39         0\n",
       "var36         0\n",
       "          ...  \n",
       "var96         0\n",
       "var94         0\n",
       "var56         0\n",
       "var92         0\n",
       "var57         0\n",
       "var58         0\n",
       "var59         0\n",
       "var60         0\n",
       "var61         0\n",
       "var62         0\n",
       "var63         0\n",
       "var64         0\n",
       "var65         0\n",
       "var66         0\n",
       "var75         0\n",
       "var76         0\n",
       "var77         0\n",
       "var78         0\n",
       "var79         0\n",
       "var80         0\n",
       "var81         0\n",
       "var82         0\n",
       "var83         0\n",
       "var84         0\n",
       "var85         0\n",
       "var86         0\n",
       "var87         0\n",
       "var89         0\n",
       "var90         0\n",
       "us_id         0\n",
       "Length: 139, dtype: int64"
      ]
     },
     "execution_count": 439,
     "metadata": {},
     "output_type": "execute_result"
    }
   ],
   "source": [
    "# Count Nans in each column\n",
    "df.isnull().sum().sort_values(ascending=False)"
   ]
  },
  {
   "cell_type": "code",
   "execution_count": 440,
   "metadata": {},
   "outputs": [],
   "source": [
    "# Count Nans in each row\n",
    "# for i in range(len(df.index)):\n",
    "#     if df.iloc[i].isnull().sum() != 0:\n",
    "#         print(\"Nan in row \", i , \" : \" ,  df.iloc[i].isnull().sum())\n",
    "\n",
    "# Very hard to browse and loads forever"
   ]
  },
  {
   "cell_type": "code",
   "execution_count": 441,
   "metadata": {},
   "outputs": [
    {
     "data": {
      "text/plain": [
       "536038"
      ]
     },
     "execution_count": 441,
     "metadata": {},
     "output_type": "execute_result"
    }
   ],
   "source": [
    "# Count all Nans\n",
    "df.isnull().sum().sum()"
   ]
  },
  {
   "cell_type": "markdown",
   "metadata": {},
   "source": [
    "We have a lot of Nans, but they are concentrated in just 27 features. If we want to preserve some of these features it is best to use a robust classifier. We can also just drop the columns with Nans, but we can't drop sex and age as they are probably our most important features."
   ]
  },
  {
   "cell_type": "markdown",
   "metadata": {},
   "source": [
    "Let's visualize known variables to get the better sense of the data."
   ]
  },
  {
   "cell_type": "code",
   "execution_count": 442,
   "metadata": {},
   "outputs": [
    {
     "data": {
      "image/png": "[encoded data removed]",
      "text/plain": [
       "<Figure size 432x288 with 1 Axes>"
      ]
     },
     "metadata": {},
     "output_type": "display_data"
    }
   ],
   "source": [
    "# Sex\n",
    "plt1 = plt.pyplot.pie(x=df['sex_encoded'].value_counts(), autopct='%1.0f%%')"
   ]
  },
  {
   "cell_type": "code",
   "execution_count": 443,
   "metadata": {},
   "outputs": [
    {
     "data": {
      "text/plain": [
       "sex_encoded\n",
       "0    AxesSubplot(0.125,0.125;0.775x0.755)\n",
       "1    AxesSubplot(0.125,0.125;0.775x0.755)\n",
       "Name: age, dtype: object"
      ]
     },
     "execution_count": 443,
     "metadata": {},
     "output_type": "execute_result"
    },
    {
     "data": {
      "image/png": "[encoded data removed]",
      "text/plain": [
       "<Figure size 432x288 with 1 Axes>"
      ]
     },
     "metadata": {
      "needs_background": "light"
     },
     "output_type": "display_data"
    }
   ],
   "source": [
    "# Visualize age density for different sex, ignoring '-1' missing values\n",
    "plt2 = df[df.sex_encoded != -1]\n",
    "plt2.groupby('sex_encoded').age.plot(kind='kde')"
   ]
  },
  {
   "cell_type": "code",
   "execution_count": 444,
   "metadata": {},
   "outputs": [
    {
     "data": {
      "text/plain": [
       "sex_encoded\n",
       "0    AxesSubplot(0.125,0.125;0.775x0.755)\n",
       "1    AxesSubplot(0.125,0.125;0.775x0.755)\n",
       "Name: age, dtype: object"
      ]
     },
     "execution_count": 444,
     "metadata": {},
     "output_type": "execute_result"
    },
    {
     "data": {
      "image/png": "[encoded data removed]",
      "text/plain": [
       "<Figure size 432x288 with 1 Axes>"
      ]
     },
     "metadata": {
      "needs_background": "light"
     },
     "output_type": "display_data"
    }
   ],
   "source": [
    "plt2.groupby('sex_encoded').age.hist()"
   ]
  },
  {
   "cell_type": "markdown",
   "metadata": {},
   "source": [
    "Sex distribution is close to even. Both genders seem to have almost the same age distribution."
   ]
  },
  {
   "cell_type": "code",
   "execution_count": 445,
   "metadata": {},
   "outputs": [
    {
     "data": {
      "image/png": "[encoded data removed]",
      "text/plain": [
       "<Figure size 432x288 with 1 Axes>"
      ]
     },
     "metadata": {},
     "output_type": "display_data"
    }
   ],
   "source": [
    "# Target\n",
    "plt4 = plt.pyplot.pie(x=df['target'].value_counts(), labels=['0', '1'], autopct='%1.0f%%', explode=[0, 0.1])"
   ]
  },
  {
   "cell_type": "markdown",
   "metadata": {},
   "source": [
    "Given that only about 16% of observations has a 1 target, our model should aim to be low-complexity, as it is easier to overfit with uneven distributions."
   ]
  },
  {
   "cell_type": "code",
   "execution_count": 446,
   "metadata": {},
   "outputs": [
    {
     "name": "stdout",
     "output_type": "stream",
     "text": [
      "Train shape: (44360, 139)\n",
      "Test shape: (21850, 139)\n"
     ]
    }
   ],
   "source": [
    "# Split data for testing\n",
    "train, test = train_test_split(df, test_size=0.33)\n",
    "print(\"Train shape: {}\".format(train.shape))\n",
    "print(\"Test shape: {}\".format(test.shape))"
   ]
  },
  {
   "cell_type": "code",
   "execution_count": 447,
   "metadata": {},
   "outputs": [
    {
     "name": "stdout",
     "output_type": "stream",
     "text": [
      "\n",
      "X_train shape: (44360, 137)\n",
      "\n",
      "        age  var1  var2   var3  var4  var5  var6  var7  var8  var9  ...  \\\n",
      "13768  48.0     0     0   21.0     0     0     0     0     0     0  ...   \n",
      "20926  76.0     0     0   45.0     0     0     0     0     0     0  ...   \n",
      "64302  45.0     0     1  100.0     0     0     0     0     0     0  ...   \n",
      "4616   63.0     0     0   60.0     0     0     0     0     0     0  ...   \n",
      "2515   41.0     0     0    NaN     0     0     0     0     0     0  ...   \n",
      "\n",
      "         var127    var128    var129    var130    var131    var132    var133  \\\n",
      "13768       NaN       NaN       NaN       NaN       NaN       NaN       NaN   \n",
      "20926       NaN  0.435978  0.600398  0.283410  0.517576  0.082660       NaN   \n",
      "64302  0.148275  0.358811  0.751575  0.229095  0.501316  0.076757  0.269507   \n",
      "4616        NaN  0.495136  0.409449       NaN       NaN       NaN       NaN   \n",
      "2515        NaN  0.546379       NaN  0.444165  0.242246       NaN       NaN   \n",
      "\n",
      "         var134    var135  sex_encoded  \n",
      "13768       NaN       NaN            1  \n",
      "20926  0.361590  0.199549            1  \n",
      "64302  0.199859  0.123325            1  \n",
      "4616        NaN       NaN            1  \n",
      "2515        NaN       NaN           -1  \n",
      "\n",
      "[5 rows x 137 columns]\n",
      "\n",
      "X_test shape: (21850, 137)\n",
      "\n",
      "        age  var1  var2  var3  var4  var5  var6  var7  var8  var9  ...  \\\n",
      "34154  53.0     0     0   4.0     0     0     0     0     0     0  ...   \n",
      "20721  61.0     0     0  46.0     0     0     0     0     0     0  ...   \n",
      "48200   NaN     0     0  55.0     0     0     0     0     0     0  ...   \n",
      "9880   36.0     0     0  95.0     0     0     1     1    17     3  ...   \n",
      "43513  36.0     0     0  44.0     0     0     0     0     0     0  ...   \n",
      "\n",
      "         var127    var128    var129    var130    var131    var132    var133  \\\n",
      "34154  0.398374  0.560893  0.158739       NaN  0.206013       NaN       NaN   \n",
      "20721  0.350761       NaN  0.263708  0.349992  0.247298  0.116702       NaN   \n",
      "48200       NaN  0.628028  0.138688  0.685524       NaN       NaN       NaN   \n",
      "9880   0.541827  0.442602  0.182019  0.727534  0.324657  0.591105  0.342094   \n",
      "43513  0.422923  0.683558  0.111134  0.700714  0.095306  0.498404  0.215507   \n",
      "\n",
      "        var134    var135  sex_encoded  \n",
      "34154  0.36957  0.310745            0  \n",
      "20721      NaN       NaN            1  \n",
      "48200      NaN  0.355133            0  \n",
      "9880       NaN  0.320205            0  \n",
      "43513      NaN       NaN            0  \n",
      "\n",
      "[5 rows x 137 columns]\n"
     ]
    }
   ],
   "source": [
    "# Separate X\n",
    "# X consists of all columns except target and us_id\n",
    "X_train = train.iloc[:, 2:]\n",
    "X_test = test.iloc[:, 2:]\n",
    "print(\"\\nX_train shape: {}\\n\".format(X_train.shape))\n",
    "print(X_train.head(5))\n",
    "print(\"\\nX_test shape: {}\\n\".format(X_test.shape))\n",
    "print(X_test.head(5))"
   ]
  },
  {
   "cell_type": "code",
   "execution_count": 448,
   "metadata": {},
   "outputs": [
    {
     "name": "stdout",
     "output_type": "stream",
     "text": [
      "\n",
      "y_train shape: (44360,)\n",
      "\n",
      "13768    0\n",
      "20926    1\n",
      "64302    1\n",
      "4616     0\n",
      "2515     0\n",
      "Name: target, dtype: int64\n",
      "\n",
      "y_test shape: (21850,)\n",
      "\n",
      "34154    0\n",
      "20721    0\n",
      "48200    0\n",
      "9880     0\n",
      "43513    1\n",
      "Name: target, dtype: int64\n",
      "\n",
      "Submission shape: (21850, 2)\n",
      "\n",
      "       us_id  target\n",
      "34154  30626       0\n",
      "20721  60892       0\n",
      "48200  40710       0\n",
      "9880   17486       0\n",
      "43513  63706       1\n"
     ]
    }
   ],
   "source": [
    "# Separate Y\n",
    "# Y consists of only target column\n",
    "# Train\n",
    "y_train = train.iloc[:, 1]\n",
    "print(\"\\ny_train shape: {}\\n\".format(y_train.shape))\n",
    "print(y_train.head(5))\n",
    "# Test\n",
    "y_test = test.iloc[:, 1]\n",
    "print(\"\\ny_test shape: {}\\n\".format(y_test.shape))\n",
    "print(y_test.head(5))\n",
    "# Prepare a submission DataFrame\n",
    "df_s = test.iloc[:, 0:2]\n",
    "print(\"\\nSubmission shape: {}\\n\".format(df_s.shape))\n",
    "print(df_s.head(5))"
   ]
  },
  {
   "cell_type": "markdown",
   "metadata": {},
   "source": [
    "Let's get the first benchmark for the whole dataset. I wanted a robust algorithm with good performance that will handle feature selection by itself. I chose XGBoost."
   ]
  },
  {
   "cell_type": "code",
   "execution_count": 449,
   "metadata": {},
   "outputs": [
    {
     "name": "stdout",
     "output_type": "stream",
     "text": [
      "0.8449885583524027\n"
     ]
    }
   ],
   "source": [
    "model = XGBClassifier()\n",
    "model.fit(X_train, y_train)\n",
    "acc = model.score(X_test, y_test)\n",
    "print(acc)"
   ]
  },
  {
   "cell_type": "markdown",
   "metadata": {},
   "source": [
    "For now we have just thrown everything into the model. Accuracy is not bad but let's see how important our features really are."
   ]
  },
  {
   "cell_type": "code",
   "execution_count": 450,
   "metadata": {},
   "outputs": [
    {
     "data": {
      "text/plain": [
       "<matplotlib.axes._subplots.AxesSubplot at 0x127d51828>"
      ]
     },
     "execution_count": 450,
     "metadata": {},
     "output_type": "execute_result"
    },
    {
     "data": {
      "image/png": "[encoded data removed]",
      "text/plain": [
       "<Figure size 432x288 with 1 Axes>"
      ]
     },
     "metadata": {
      "needs_background": "light"
     },
     "output_type": "display_data"
    }
   ],
   "source": [
    "plot_importance(model)"
   ]
  },
  {
   "cell_type": "markdown",
   "metadata": {},
   "source": [
    "It's hard to see anything, because we have so many features, but we can see that we have few very important features, next about 1/4 features are also rather important and then it steadily falls close to 0 with each feature.\n",
    "\n",
    "Let's throw all of this into another DataFrame to see it more clearly."
   ]
  },
  {
   "cell_type": "code",
   "execution_count": 451,
   "metadata": {},
   "outputs": [
    {
     "name": "stdout",
     "output_type": "stream",
     "text": [
      "   feature  importance\n",
      "2    var94         177\n",
      "6      age          66\n",
      "0    var66          36\n",
      "14    var3          25\n",
      "12   var91          24\n",
      "10  var130          21\n",
      "31  var123          19\n",
      "26   var93          17\n",
      "1   var129          16\n",
      "33   var74          16\n",
      "  feature  importance\n",
      "6     age          66\n",
      "        feature  importance\n",
      "30  sex_encoded           1\n"
     ]
    }
   ],
   "source": [
    "df_imp = pd.DataFrame(model.get_booster().get_score().items(), columns=['feature','importance']).sort_values('importance', ascending=False)\n",
    "print(df_imp.head(10))\n",
    "print(df_imp[df_imp.feature == 'age'])\n",
    "print(df_imp[df_imp.feature == 'sex_encoded'])"
   ]
  },
  {
   "cell_type": "markdown",
   "metadata": {},
   "source": [
    "We can see that age is the second most important feature, while gender has little to no impact on the target (depending on the run sex appears with importance between 1 and 4 or does not appear at all).\n"
   ]
  },
  {
   "cell_type": "code",
   "execution_count": 452,
   "metadata": {},
   "outputs": [],
   "source": [
    "# Submission file\n",
    "# Let's fill our submission DataFrame with probability predictions (probability of target being of class 1)\n",
    "df_s['target_score'] = [proba[1] for proba in model.predict_proba(X_test)]\n",
    "df_s.to_csv('submission_form.csv', index=False)"
   ]
  },
  {
   "cell_type": "markdown",
   "metadata": {},
   "source": [
    "My ideas to explore:\n",
    "\n",
    "1) Use target as a feature in unsupervised learning and cluster the customers. This way (hopefully) customers who did open the communication will fall into similar categories and others will cluster based on their various preferences. Then we can tailor the communication to fit the preferences of each group.\n",
    "\n",
    "2) Somehow use target as a feature that will negatively affect probability of opening the next communication. The communication was said to be similar. Maybe people are not interested in the same communication after a period of time that short?"
   ]
  },
  {
   "cell_type": "markdown",
   "metadata": {},
   "source": [
    "THE END\n",
    "\n",
    "PS: Bardzo dobrze się bawiłem rozwiązując Wasze testowe zadanie. Świadomość, że ktoś przeczyta i przeanalizuje co się robiło czyni pracę dużo ciekawszą, niż \"klepanie\" tylko dla siebie kolejnego notebooka. Dzięki!"
   ]
  }
 ],
 "metadata": {
  "kernelspec": {
   "display_name": "Python 3",
   "language": "python",
   "name": "python3"
  },
  "language_info": {
   "codemirror_mode": {
    "name": "ipython",
    "version": 3
   },
   "file_extension": ".py",
   "mimetype": "text/x-python",
   "name": "python",
   "nbconvert_exporter": "python",
   "pygments_lexer": "ipython3",
   "version": "3.7.3"
  }
 },
 "nbformat": 4,
 "nbformat_minor": 2
}
